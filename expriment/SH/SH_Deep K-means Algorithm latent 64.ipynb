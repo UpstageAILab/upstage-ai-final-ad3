{
 "cells": [
  {
   "cell_type": "markdown",
   "metadata": {},
   "source": [
    "# Deep K-Means Algorithm"
   ]
  },
  {
   "cell_type": "markdown",
   "metadata": {},
   "source": [
    "# 1. Library"
   ]
  },
  {
   "cell_type": "code",
   "execution_count": 1,
   "metadata": {},
   "outputs": [],
   "source": [
    "# 필요한 라이브러리 임포트 \n",
    "import torch\n",
    "import torch.nn as nn\n",
    "from sklearn.preprocessing import MinMaxScaler, StandardScaler\n",
    "from torch.utils.data import DataLoader, TensorDataset \n",
    "from sklearn.model_selection import train_test_split\n",
    "import torchvision\n",
    "from torchvision import transforms\n",
    "import numpy as np\n",
    "from scipy.optimize import linear_sum_assignment as linear_assignment\n",
    "from sklearn.manifold import TSNE\n",
    "from matplotlib import pyplot as plt\n",
    "import pandas as pd"
   ]
  },
  {
   "cell_type": "code",
   "execution_count": 2,
   "metadata": {},
   "outputs": [
    {
     "name": "stdout",
     "output_type": "stream",
     "text": [
      "cuda:0 is available.\n"
     ]
    }
   ],
   "source": [
    "# CPU/GPU\n",
    "device = torch.device(\"cuda:0\" if torch.cuda.is_available() else \"cpu\")\n",
    "print(f'{device} is available.')"
   ]
  },
  {
   "cell_type": "markdown",
   "metadata": {},
   "source": [
    "# 2. Data Load"
   ]
  },
  {
   "cell_type": "code",
   "execution_count": 3,
   "metadata": {},
   "outputs": [],
   "source": [
    "batch_size = 500\n",
    "num_clusters = 2 # k-mean에서는 num cluster를 hyperparameter로 정의\n",
    "latent_size = 64 # latent vector size"
   ]
  },
  {
   "cell_type": "code",
   "execution_count": 4,
   "metadata": {},
   "outputs": [],
   "source": [
    "train_data = pd.read_csv('../data/train.csv')\n",
    "test_data = pd.read_csv('../data/test.csv')"
   ]
  },
  {
   "cell_type": "code",
   "execution_count": 5,
   "metadata": {},
   "outputs": [],
   "source": [
    "def process_data(df) -> pd.DataFrame:\n",
    "    numeric_cols = [\n",
    "        'xmeas_1', 'xmeas_10', 'xmeas_11', 'xmeas_12', 'xmeas_13', 'xmeas_14',\n",
    "        'xmeas_15', 'xmeas_16', 'xmeas_17', 'xmeas_18', 'xmeas_19', 'xmeas_2',\n",
    "        'xmeas_20', 'xmeas_21', 'xmeas_22', 'xmeas_23', 'xmeas_24', 'xmeas_25',\n",
    "        'xmeas_26', 'xmeas_27', 'xmeas_28', 'xmeas_29', 'xmeas_3', 'xmeas_30',\n",
    "        'xmeas_31', 'xmeas_32', 'xmeas_33', 'xmeas_34', 'xmeas_35', 'xmeas_36',\n",
    "        'xmeas_37', 'xmeas_38', 'xmeas_39', 'xmeas_4', 'xmeas_40', 'xmeas_41',\n",
    "        'xmeas_5', 'xmeas_6', 'xmeas_7', 'xmeas_8', 'xmeas_9', 'xmv_1',\n",
    "        'xmv_10', 'xmv_11', 'xmv_2', 'xmv_3', 'xmv_4', 'xmv_5', 'xmv_6',\n",
    "        'xmv_7', 'xmv_8', 'xmv_9'\n",
    "    ]\n",
    "    return df[numeric_cols]"
   ]
  },
  {
   "cell_type": "code",
   "execution_count": 6,
   "metadata": {},
   "outputs": [],
   "source": [
    "X_train = process_data(train_data)\n",
    "X_test = process_data(test_data)"
   ]
  },
  {
   "cell_type": "code",
   "execution_count": 7,
   "metadata": {},
   "outputs": [],
   "source": [
    "def create_new_features(df):\n",
    "    # 새로운 feature를 저장할 딕셔너리\n",
    "    new_features = {}\n",
    "    \n",
    "    # xmeas_1부터 xmeas_8까지 반복\n",
    "    for i in range(1, 9):\n",
    "        # xmv_i - xmeas_* 계산하여 새로운 feature 생성\n",
    "        for j in range(1, 42):\n",
    "            new_feature_name = f'{i}_{j}'\n",
    "            new_features[new_feature_name] = df[f'xmv_{i}'] - df[f'xmeas_{j}']\n",
    "    # 딕셔너리를 데이터프레임으로 변환하여 반환\n",
    "    return pd.DataFrame(new_features)\n",
    "    "
   ]
  },
  {
   "cell_type": "code",
   "execution_count": 8,
   "metadata": {},
   "outputs": [],
   "source": [
    "new_train = create_new_features(X_train)\n",
    "new_test = create_new_features(X_test)"
   ]
  },
  {
   "cell_type": "code",
   "execution_count": 9,
   "metadata": {},
   "outputs": [],
   "source": [
    "new_train = pd.concat([train_data, new_train], axis=1)\n",
    "new_test = pd.concat([X_test, new_test], axis=1)\n",
    "\n",
    "# # 'simple'과 'simulationRun' 열 삭제\n",
    "# new_test = new_test.drop(columns=['simple', 'simulationRun'])"
   ]
  },
  {
   "cell_type": "code",
   "execution_count": 10,
   "metadata": {},
   "outputs": [],
   "source": [
    "# 데이터셋을 simulationRun을 기준으로 분할하는 함수 정의\n",
    "def split_dataset_by_simulation(data):\n",
    "    unique_simulation_runs = data['simulationRun'].unique()\n",
    "    train_simulation_runs = unique_simulation_runs[:475]  # 처음 400개를 학습에 사용\n",
    "    val_simulation_runs = unique_simulation_runs[475:]  # 나머지를 검증에 사용\n",
    "    \n",
    "    train_data = data[data['simulationRun'].isin(train_simulation_runs)].drop(columns=['simulationRun','sample','faultNumber'])\n",
    "    val_data = data[data['simulationRun'].isin(val_simulation_runs)].drop(columns=['simulationRun','sample','faultNumber'])\n",
    "    \n",
    "    return train_data, val_data"
   ]
  },
  {
   "cell_type": "code",
   "execution_count": 11,
   "metadata": {},
   "outputs": [],
   "source": [
    "# 데이터 분할\n",
    "X_train, X_val = split_dataset_by_simulation(new_train)\n",
    "\n",
    "# 데이터 스케일러 인스턴스 생성(데이터 표준화)\n",
    "scaler = StandardScaler() \n",
    "\n",
    "# 학습 데이터셋에 대해 fit과 transform 수행: train 기준 정보 계산 및 데이터 변환\n",
    "X_train_scaled = scaler.fit_transform(X_train) \n",
    "X_val_scaled = scaler.transform(X_val)\n",
    "\n",
    "# PyTorch Tensor로 변환 \n",
    "X_train_tensor = torch.FloatTensor(X_train_scaled) \n",
    "X_val_tensor = torch.FloatTensor(X_val_scaled)\n",
    "\n",
    "# DataLoader 설정 \n",
    "train_dataset = TensorDataset(X_train_tensor, X_train_tensor)  # 입력과 타겟이 같음\n",
    "val_dataset = TensorDataset(X_val_tensor, X_val_tensor)  # 입력과 타겟이 같음\n",
    "train_loader = DataLoader(train_dataset, batch_size=batch_size, shuffle=False)\n",
    "val_loader = DataLoader(val_dataset, batch_size=batch_size, shuffle=False)"
   ]
  },
  {
   "cell_type": "code",
   "execution_count": 12,
   "metadata": {},
   "outputs": [],
   "source": [
    "# test 데이터셋\n",
    "# 테스트 데이터셋에 대해서는 transform만 수행: 학습 데이터셋의 기준 정보를 사용하여 데이터 변환\n",
    "X_test_scaled = scaler.fit_transform(new_test)  \n",
    "X_test_tensor = torch.FloatTensor(X_test_scaled)  "
   ]
  },
  {
   "cell_type": "code",
   "execution_count": 13,
   "metadata": {},
   "outputs": [
    {
     "name": "stdout",
     "output_type": "stream",
     "text": [
      "Input shape: torch.Size([500, 380])\n",
      "Target shape: torch.Size([500, 380])\n"
     ]
    }
   ],
   "source": [
    "# 데이터 형식 확인 \n",
    "for data in train_loader:\n",
    "    inputs = data[0]  # 첫 번째 요소가 입력 데이터\n",
    "    targets = data[1]  # 두 번째 요소가 타겟 데이터\n",
    "    print(\"Input shape:\", inputs.shape)\n",
    "    print(\"Target shape:\", targets.shape)\n",
    "    # 여기에 데이터 형식에 대한 추가 확인 또는 시각화 코드 추가 가능\n",
    "    break  # 첫 번째 배치만 확인"
   ]
  },
  {
   "cell_type": "markdown",
   "metadata": {},
   "source": [
    "# 3. 모델 정의 (flatten, deflatten, encoder, decoder, kmeans)"
   ]
  },
  {
   "cell_type": "code",
   "execution_count": 25,
   "metadata": {},
   "outputs": [],
   "source": [
    "class Encoder(nn.Module):\n",
    "    def __init__(self, latent_size):\n",
    "        super(Encoder, self).__init__()\n",
    "        \n",
    "        k = 16\n",
    "        self.encoder = nn.Sequential(\n",
    "            nn.Linear(380, 256), \n",
    "            nn.ReLU(), # 활성화 함수 ReLU 사용\n",
    "            nn.Linear(256, 128), \n",
    "            nn.ReLU(), # 활성화 함수 ReLU 사용\n",
    "            nn.Linear(128, latent_size), \n",
    "            nn.ReLU(), # 활성화 함수 ReLU 사용\n",
    "            # nn.Linear(64, latent_size), \n",
    "            # nn.ReLU(), # 활성화 함수 ReLU 사용\n",
    "            # nn.Linear(32, latent_size), # 중간 차원 32에서 중간 차원 16로 압축\n",
    "            # nn.ReLU(), # 활성화 함수 ReLU 사용\n",
    "            # nn.Linear(16, latent_size), # 중간 차원 16에서 특징 차원 8으로 더 압축\n",
    "            # nn.ReLU(), # 활성화 함수 ReLU 사용\n",
    "        )\n",
    "\n",
    "    def forward(self, x):       \n",
    "        return self.encoder(x)\n",
    "    \n",
    "class Decoder(nn.Module):\n",
    "    def __init__(self, latent_size):\n",
    "        super(Decoder, self).__init__()\n",
    "        \n",
    "        k = 16\n",
    "        self.decoder = nn.Sequential(\n",
    "            # nn.Linear(latent_size, 16), # 특징 차원 8에서 중간 차원 16로 확장\n",
    "            # nn.ReLU(), # 활성화 함수 ReLU 사용\n",
    "            # nn.Linear(latent_size, 32), # 중간 차원 16에서 중간 차원 32로 확장\n",
    "            # nn.ReLU(), # 활성화 함수 ReLU 사용\n",
    "            # nn.Linear(latent_size, 64),\n",
    "            # nn.ReLU(), # 활성화 함수 ReLU 사용\n",
    "            nn.Linear(latent_size, 128),\n",
    "            nn.ReLU(), # 활성화 함수 ReLU 사용\n",
    "            nn.Linear(128, 256),\n",
    "            nn.ReLU(), # 활성화 함수 ReLU 사용\n",
    "            nn.Linear(256, 380),\n",
    "            nn.Sigmoid() # 출력을 0과 1 사이로 조정\n",
    "        )\n",
    "    \n",
    "    def forward(self, x):       \n",
    "        return self.decoder(x)\n",
    "        \n",
    "class Kmeans(nn.Module): \n",
    "    def __init__(self, num_clusters, latent_size):\n",
    "        super(Kmeans, self).__init__()\n",
    "        device = torch.device(\"cuda:0\" if torch.cuda.is_available() else \"cpu\")\n",
    "        self.num_clusters = num_clusters\n",
    "        self.centroids = nn.Parameter(torch.rand((self.num_clusters, latent_size)).to(device))\n",
    "    \n",
    "    def argminl2distance(self, a, b): # L2 distance   \n",
    "        return torch.argmin(torch.sum((a-b)**2,dim=1),dim=0)\n",
    "    \n",
    "    # def argmin_manhattan_distance(self, a, b): # Manhattan Distance\n",
    "    #     return torch.argmin(torch.sum(torch.abs(a - b), dim=1), dim=0)\n",
    "\n",
    "    # def argmin_euclidean_distance(self, a, b): # Euclidean Distance\n",
    "    #     return torch.argmin(torch.sqrt(torch.sum((a - b)**2, dim=1)), dim=0)\n",
    "\n",
    "    # def argmin_chebyshev_distance(self, a, b): # Chebyshev Distance\n",
    "    #     return torch.argmin(torch.max(torch.abs(a - b), dim=1).values, dim=0)\n",
    "\n",
    "    def forward(self, x):\n",
    "        y_assign = []\n",
    "        for m in range(x.size(0)):\n",
    "            h = x[m].expand(self.num_clusters,-1)\n",
    "            assign = self.argminl2distance(h, self.centroids)\n",
    "            y_assign.append(assign.item())\n",
    "        \n",
    "        return y_assign, self.centroids[y_assign]"
   ]
  },
  {
   "cell_type": "markdown",
   "metadata": {},
   "source": [
    "# 4. clustering accuracy func justice"
   ]
  },
  {
   "cell_type": "code",
   "execution_count": 26,
   "metadata": {},
   "outputs": [],
   "source": [
    "def cluster_acc(y_true, y_pred):\n",
    "\n",
    "    y_true = np.array(y_true, dtype=np.int64)  # numpy 배열로 변환\n",
    "    y_pred = np.array(y_pred)  # 수정되지 않음\n",
    "\n",
    "    D = max(y_pred.max(), y_true.max()) + 1\n",
    "    w = np.zeros((D, D), dtype=np.int64)\n",
    "    for i in range(y_pred.size):\n",
    "        w[y_pred[i], y_true[i]] += 1\n",
    "    ind = linear_assignment(w.max() - w)\n",
    "    \n",
    "    return sum([w[i, j] for i, j in zip(ind[0], ind[1])]) * 1.0 / y_pred.size\n",
    "         \n",
    "def evaluation(testloader, encoder, kmeans, device):\n",
    "    predictions = []\n",
    "    actual = []\n",
    "\n",
    "    with torch.no_grad():\n",
    "        for data in testloader:\n",
    "            inputs, labels = data\n",
    "            inputs = inputs.to(device)\n",
    "            labels = labels.to(device)\n",
    "            latent_var = encoder(inputs)\n",
    "            y_pred, _ = kmeans(latent_var)  # 클러스터링 결과\n",
    "\n",
    "            predictions += y_pred\n",
    "            actual += labels.tolist()\n",
    "\n",
    "    return cluster_acc(actual, predictions)"
   ]
  },
  {
   "cell_type": "markdown",
   "metadata": {},
   "source": [
    "# 5. loss and optimization"
   ]
  },
  {
   "cell_type": "code",
   "execution_count": 27,
   "metadata": {},
   "outputs": [],
   "source": [
    "encoder = Encoder(latent_size).to(device)\n",
    "decoder = Decoder(latent_size).to(device)\n",
    "kmeans = Kmeans(num_clusters, latent_size).to(device)\n",
    "\n",
    "# Loss and optimizer\n",
    "criterion1 = torch.nn.MSELoss()\n",
    "criterion2 = torch.nn.MSELoss()\n",
    "optimizer = torch.optim.AdamW(list(encoder.parameters()) + \n",
    "                              list(decoder.parameters()) +\n",
    "                              list(kmeans.parameters()), lr=1e-3)\n",
    "scheduler = torch.optim.lr_scheduler.ReduceLROnPlateau(optimizer, mode='min', factor=0.1, patience=5, verbose=True)\n",
    "# ReduceLROnPlateau는 손실이 더 이상 개선되지 않을 때 학습률을 감소시키는 방법을 제공"
   ]
  },
  {
   "cell_type": "code",
   "execution_count": 28,
   "metadata": {},
   "outputs": [],
   "source": [
    "# Training\n",
    "T1 = 50\n",
    "T2 = 200\n",
    "lam = 1e-3\n",
    "ls = 0.05"
   ]
  },
  {
   "cell_type": "code",
   "execution_count": 30,
   "metadata": {},
   "outputs": [
    {
     "name": "stdout",
     "output_type": "stream",
     "text": [
      "[0] Train loss: 0.7148, Val Accuracy: 1.000\n",
      "[1] Train loss: 0.6863, Val Accuracy: 1.000\n",
      "[2] Train loss: 0.6817, Val Accuracy: 1.000\n",
      "[3] Train loss: 0.6788, Val Accuracy: 1.000\n",
      "[4] Train loss: 0.6760, Val Accuracy: 1.000\n",
      "[5] Train loss: 0.6736, Val Accuracy: 1.000\n",
      "[6] Train loss: 0.6723, Val Accuracy: 1.000\n",
      "[7] Train loss: 0.6708, Val Accuracy: 1.000\n",
      "[8] Train loss: 0.6700, Val Accuracy: 1.000\n",
      "[9] Train loss: 0.6693, Val Accuracy: 1.000\n",
      "[10] Train loss: 0.6688, Val Accuracy: 1.000\n",
      "[11] Train loss: 0.6683, Val Accuracy: 1.000\n",
      "[12] Train loss: 0.6679, Val Accuracy: 1.000\n",
      "[13] Train loss: 0.6678, Val Accuracy: 1.000\n",
      "[14] Train loss: 0.6669, Val Accuracy: 1.000\n",
      "[15] Train loss: 0.6660, Val Accuracy: 1.000\n",
      "[16] Train loss: 0.6655, Val Accuracy: 1.000\n",
      "[17] Train loss: 0.6654, Val Accuracy: 1.000\n",
      "[18] Train loss: 0.6652, Val Accuracy: 1.000\n",
      "[19] Train loss: 0.6650, Val Accuracy: 1.000\n",
      "[20] Train loss: 0.6649, Val Accuracy: 1.000\n",
      "[21] Train loss: 0.6647, Val Accuracy: 1.000\n",
      "[22] Train loss: 0.6646, Val Accuracy: 1.000\n",
      "[23] Train loss: 0.6646, Val Accuracy: 1.000\n",
      "[24] Train loss: 0.6646, Val Accuracy: 1.000\n",
      "[25] Train loss: 0.6645, Val Accuracy: 1.000\n",
      "[26] Train loss: 0.6644, Val Accuracy: 1.000\n",
      "[27] Train loss: 0.6644, Val Accuracy: 1.000\n",
      "[28] Train loss: 0.6643, Val Accuracy: 1.000\n",
      "[29] Train loss: 0.6644, Val Accuracy: 1.000\n",
      "[30] Train loss: 0.6643, Val Accuracy: 1.000\n",
      "[31] Train loss: 0.6643, Val Accuracy: 1.000\n",
      "[32] Train loss: 0.6643, Val Accuracy: 1.000\n",
      "[33] Train loss: 0.6643, Val Accuracy: 1.000\n",
      "[34] Train loss: 0.6643, Val Accuracy: 1.000\n",
      "[35] Train loss: 0.6642, Val Accuracy: 1.000\n"
     ]
    },
    {
     "ename": "KeyboardInterrupt",
     "evalue": "",
     "output_type": "error",
     "traceback": [
      "\u001b[0;31m---------------------------------------------------------------------------\u001b[0m",
      "\u001b[0;31mKeyboardInterrupt\u001b[0m                         Traceback (most recent call last)",
      "Cell \u001b[0;32mIn[30], line 16\u001b[0m\n\u001b[1;32m     14\u001b[0m optimizer\u001b[38;5;241m.\u001b[39mzero_grad()\n\u001b[1;32m     15\u001b[0m latent_var \u001b[38;5;241m=\u001b[39m encoder(inputs)\n\u001b[0;32m---> 16\u001b[0m _, centroids \u001b[38;5;241m=\u001b[39m \u001b[43mkmeans\u001b[49m\u001b[43m(\u001b[49m\u001b[43mlatent_var\u001b[49m\u001b[38;5;241;43m.\u001b[39;49m\u001b[43mdetach\u001b[49m\u001b[43m(\u001b[49m\u001b[43m)\u001b[49m\u001b[43m)\u001b[49m\n\u001b[1;32m     17\u001b[0m outputs \u001b[38;5;241m=\u001b[39m decoder(latent_var)\n\u001b[1;32m     19\u001b[0m l_rec \u001b[38;5;241m=\u001b[39m criterion1(inputs, outputs) \n",
      "File \u001b[0;32m/opt/conda/lib/python3.10/site-packages/torch/nn/modules/module.py:1194\u001b[0m, in \u001b[0;36mModule._call_impl\u001b[0;34m(self, *input, **kwargs)\u001b[0m\n\u001b[1;32m   1190\u001b[0m \u001b[38;5;66;03m# If we don't have any hooks, we want to skip the rest of the logic in\u001b[39;00m\n\u001b[1;32m   1191\u001b[0m \u001b[38;5;66;03m# this function, and just call forward.\u001b[39;00m\n\u001b[1;32m   1192\u001b[0m \u001b[38;5;28;01mif\u001b[39;00m \u001b[38;5;129;01mnot\u001b[39;00m (\u001b[38;5;28mself\u001b[39m\u001b[38;5;241m.\u001b[39m_backward_hooks \u001b[38;5;129;01mor\u001b[39;00m \u001b[38;5;28mself\u001b[39m\u001b[38;5;241m.\u001b[39m_forward_hooks \u001b[38;5;129;01mor\u001b[39;00m \u001b[38;5;28mself\u001b[39m\u001b[38;5;241m.\u001b[39m_forward_pre_hooks \u001b[38;5;129;01mor\u001b[39;00m _global_backward_hooks\n\u001b[1;32m   1193\u001b[0m         \u001b[38;5;129;01mor\u001b[39;00m _global_forward_hooks \u001b[38;5;129;01mor\u001b[39;00m _global_forward_pre_hooks):\n\u001b[0;32m-> 1194\u001b[0m     \u001b[38;5;28;01mreturn\u001b[39;00m \u001b[43mforward_call\u001b[49m\u001b[43m(\u001b[49m\u001b[38;5;241;43m*\u001b[39;49m\u001b[38;5;28;43minput\u001b[39;49m\u001b[43m,\u001b[49m\u001b[43m \u001b[49m\u001b[38;5;241;43m*\u001b[39;49m\u001b[38;5;241;43m*\u001b[39;49m\u001b[43mkwargs\u001b[49m\u001b[43m)\u001b[49m\n\u001b[1;32m   1195\u001b[0m \u001b[38;5;66;03m# Do not call functions when jit is used\u001b[39;00m\n\u001b[1;32m   1196\u001b[0m full_backward_hooks, non_full_backward_hooks \u001b[38;5;241m=\u001b[39m [], []\n",
      "Cell \u001b[0;32mIn[25], line 61\u001b[0m, in \u001b[0;36mKmeans.forward\u001b[0;34m(self, x)\u001b[0m\n\u001b[1;32m     59\u001b[0m \u001b[38;5;28;01mfor\u001b[39;00m m \u001b[38;5;129;01min\u001b[39;00m \u001b[38;5;28mrange\u001b[39m(x\u001b[38;5;241m.\u001b[39msize(\u001b[38;5;241m0\u001b[39m)):\n\u001b[1;32m     60\u001b[0m     h \u001b[38;5;241m=\u001b[39m x[m]\u001b[38;5;241m.\u001b[39mexpand(\u001b[38;5;28mself\u001b[39m\u001b[38;5;241m.\u001b[39mnum_clusters,\u001b[38;5;241m-\u001b[39m\u001b[38;5;241m1\u001b[39m)\n\u001b[0;32m---> 61\u001b[0m     assign \u001b[38;5;241m=\u001b[39m \u001b[38;5;28;43mself\u001b[39;49m\u001b[38;5;241;43m.\u001b[39;49m\u001b[43margminl2distance\u001b[49m\u001b[43m(\u001b[49m\u001b[43mh\u001b[49m\u001b[43m,\u001b[49m\u001b[43m \u001b[49m\u001b[38;5;28;43mself\u001b[39;49m\u001b[38;5;241;43m.\u001b[39;49m\u001b[43mcentroids\u001b[49m\u001b[43m)\u001b[49m\n\u001b[1;32m     62\u001b[0m     y_assign\u001b[38;5;241m.\u001b[39mappend(assign\u001b[38;5;241m.\u001b[39mitem())\n\u001b[1;32m     64\u001b[0m \u001b[38;5;28;01mreturn\u001b[39;00m y_assign, \u001b[38;5;28mself\u001b[39m\u001b[38;5;241m.\u001b[39mcentroids[y_assign]\n",
      "Cell \u001b[0;32mIn[25], line 55\u001b[0m, in \u001b[0;36mKmeans.argminl2distance\u001b[0;34m(self, a, b)\u001b[0m\n\u001b[1;32m     54\u001b[0m \u001b[38;5;28;01mdef\u001b[39;00m \u001b[38;5;21margminl2distance\u001b[39m(\u001b[38;5;28mself\u001b[39m, a, b): \u001b[38;5;66;03m# L2 distance   \u001b[39;00m\n\u001b[0;32m---> 55\u001b[0m     \u001b[38;5;28;01mreturn\u001b[39;00m torch\u001b[38;5;241m.\u001b[39margmin(torch\u001b[38;5;241m.\u001b[39msum(\u001b[43m(\u001b[49m\u001b[43ma\u001b[49m\u001b[38;5;241;43m-\u001b[39;49m\u001b[43mb\u001b[49m\u001b[43m)\u001b[49m\u001b[38;5;241;43m*\u001b[39;49m\u001b[38;5;241;43m*\u001b[39;49m\u001b[38;5;241;43m2\u001b[39;49m,dim\u001b[38;5;241m=\u001b[39m\u001b[38;5;241m1\u001b[39m),dim\u001b[38;5;241m=\u001b[39m\u001b[38;5;241m0\u001b[39m)\n",
      "File \u001b[0;32m/opt/conda/lib/python3.10/site-packages/torch/_tensor.py:39\u001b[0m, in \u001b[0;36m_handle_torch_function_and_wrap_type_error_to_not_implemented.<locals>.wrapped\u001b[0;34m(*args, **kwargs)\u001b[0m\n\u001b[1;32m     37\u001b[0m     \u001b[38;5;28;01mif\u001b[39;00m has_torch_function(args):\n\u001b[1;32m     38\u001b[0m         \u001b[38;5;28;01mreturn\u001b[39;00m handle_torch_function(wrapped, args, \u001b[38;5;241m*\u001b[39margs, \u001b[38;5;241m*\u001b[39m\u001b[38;5;241m*\u001b[39mkwargs)\n\u001b[0;32m---> 39\u001b[0m     \u001b[38;5;28;01mreturn\u001b[39;00m \u001b[43mf\u001b[49m\u001b[43m(\u001b[49m\u001b[38;5;241;43m*\u001b[39;49m\u001b[43margs\u001b[49m\u001b[43m,\u001b[49m\u001b[43m \u001b[49m\u001b[38;5;241;43m*\u001b[39;49m\u001b[38;5;241;43m*\u001b[39;49m\u001b[43mkwargs\u001b[49m\u001b[43m)\u001b[49m\n\u001b[1;32m     40\u001b[0m \u001b[38;5;28;01mexcept\u001b[39;00m \u001b[38;5;167;01mTypeError\u001b[39;00m:\n\u001b[1;32m     41\u001b[0m     \u001b[38;5;28;01mreturn\u001b[39;00m \u001b[38;5;28mNotImplemented\u001b[39m\n",
      "\u001b[0;31mKeyboardInterrupt\u001b[0m: "
     ]
    }
   ],
   "source": [
    "for ep in range(300):\n",
    "    if (ep > T1) and (ep < T2):\n",
    "        alpha = lam*(ep - T1)/(T2 - T1) # 1/100, 2/100, .., 99/100\n",
    "    elif ep >= T2:    \n",
    "        alpha = lam\n",
    "    else:\n",
    "        alpha = lam/(T2 - T1)\n",
    "        \n",
    "    running_loss = 0.0\n",
    "    for data in train_loader:\n",
    "        inputs, _ = data\n",
    "        inputs = inputs.to(device)  # 데이터를 디바이스로 이동\n",
    "        \n",
    "        optimizer.zero_grad()\n",
    "        latent_var = encoder(inputs)\n",
    "        _, centroids = kmeans(latent_var.detach())\n",
    "        outputs = decoder(latent_var)\n",
    "        \n",
    "        l_rec = criterion1(inputs, outputs) \n",
    "        l_clt = criterion2(latent_var, centroids) \n",
    "        loss = l_rec + alpha*l_clt\n",
    "        loss.backward()\n",
    "        optimizer.step()\n",
    "        \n",
    "        running_loss += loss.item()\n",
    "  \n",
    "    avg_loss = running_loss / len(train_loader)        \n",
    "    \n",
    "    if ep % 1 == 0:               \n",
    "        testacc = evaluation(val_loader, encoder, kmeans, device)\n",
    "        print('[%d] Train loss: %.4f, Val Accuracy: %.3f' %(ep, avg_loss, testacc))  \n",
    "        \n",
    "    if avg_loss < ls:\n",
    "        ls = avg_loss\n",
    "        torch.save(encoder.state_dict(),'./models/dkm5_en.pth')\n",
    "        torch.save(decoder.state_dict(),'./models/dkm5_de.pth')\n",
    "        torch.save(kmeans.state_dict(),'./models/dkm5_clt.pth')"
   ]
  },
  {
   "cell_type": "markdown",
   "metadata": {},
   "source": [
    "# 6. 모델 결과 확인"
   ]
  },
  {
   "cell_type": "code",
   "execution_count": 31,
   "metadata": {},
   "outputs": [
    {
     "name": "stdout",
     "output_type": "stream",
     "text": [
      "1.0\n"
     ]
    }
   ],
   "source": [
    "predictions = []\n",
    "actual = []\n",
    "latent_features = []\n",
    "\n",
    "with torch.no_grad():\n",
    "    for data in val_loader:  # 테스트 데이터셋의 배치마다 반복\n",
    "        inputs, labels = data\n",
    "        inputs = inputs.to(device)\n",
    "        labels = labels.to(device)\n",
    "        latent_var = encoder(inputs)  # 입력 데이터를 인코더에 통과시켜 잠재 변수를 추출\n",
    "        y_pred, _ = kmeans(latent_var)  # 클러스터링 결과\n",
    "        \n",
    "        predictions += y_pred  # 예측된 클러스터를 리스트에 추가\n",
    "        latent_features += latent_var.cpu().tolist()  # 잠재 변수를 리스트에 추가\n",
    "        actual += labels.tolist()  # 실제 레이블을 리스트에 추가\n",
    "\n",
    "print(cluster_acc(actual, predictions))  # 클러스터링 정확도 계산 및 출력"
   ]
  },
  {
   "cell_type": "code",
   "execution_count": 32,
   "metadata": {},
   "outputs": [],
   "source": [
    "# 모델을 평가 모드로 설정\n",
    "encoder.eval()\n",
    "kmeans.eval()\n",
    "\n",
    "# 테스트 데이터셋을 디바이스로 이동\n",
    "X_test_tensor = X_test_tensor.to(device)\n",
    "\n",
    "# 테스트 데이터셋을 모델에 전달하여 추론\n",
    "with torch.no_grad():\n",
    "    latent_var_test = encoder(X_test_tensor)  # 테스트 데이터셋의 잠재 변수 추출\n",
    "    y_pred_test, _ = kmeans(latent_var_test)  # 클러스터링 결과\n",
    "\n",
    "# y_pred_test가 리스트 형식이므로 텐서로 변환\n",
    "y_pred_test = torch.tensor(y_pred_test)\n",
    "\n",
    "# 결과를 CSV 파일로 저장\n",
    "results = pd.DataFrame({'faultNumber': y_pred_test.cpu().numpy()})\n",
    "results.to_csv('deepkmeans_1.csv', index=False)"
   ]
  },
  {
   "cell_type": "code",
   "execution_count": 168,
   "metadata": {},
   "outputs": [
    {
     "data": {
      "text/html": [
       "<div>\n",
       "<style scoped>\n",
       "    .dataframe tbody tr th:only-of-type {\n",
       "        vertical-align: middle;\n",
       "    }\n",
       "\n",
       "    .dataframe tbody tr th {\n",
       "        vertical-align: top;\n",
       "    }\n",
       "\n",
       "    .dataframe thead th {\n",
       "        text-align: right;\n",
       "    }\n",
       "</style>\n",
       "<table border=\"1\" class=\"dataframe\">\n",
       "  <thead>\n",
       "    <tr style=\"text-align: right;\">\n",
       "      <th></th>\n",
       "      <th>faultNumber</th>\n",
       "    </tr>\n",
       "  </thead>\n",
       "  <tbody>\n",
       "    <tr>\n",
       "      <th>count</th>\n",
       "      <td>710400.000000</td>\n",
       "    </tr>\n",
       "    <tr>\n",
       "      <th>mean</th>\n",
       "      <td>0.067572</td>\n",
       "    </tr>\n",
       "    <tr>\n",
       "      <th>std</th>\n",
       "      <td>0.251010</td>\n",
       "    </tr>\n",
       "    <tr>\n",
       "      <th>min</th>\n",
       "      <td>0.000000</td>\n",
       "    </tr>\n",
       "    <tr>\n",
       "      <th>25%</th>\n",
       "      <td>0.000000</td>\n",
       "    </tr>\n",
       "    <tr>\n",
       "      <th>50%</th>\n",
       "      <td>0.000000</td>\n",
       "    </tr>\n",
       "    <tr>\n",
       "      <th>75%</th>\n",
       "      <td>0.000000</td>\n",
       "    </tr>\n",
       "    <tr>\n",
       "      <th>max</th>\n",
       "      <td>1.000000</td>\n",
       "    </tr>\n",
       "  </tbody>\n",
       "</table>\n",
       "</div>"
      ],
      "text/plain": [
       "         faultNumber\n",
       "count  710400.000000\n",
       "mean        0.067572\n",
       "std         0.251010\n",
       "min         0.000000\n",
       "25%         0.000000\n",
       "50%         0.000000\n",
       "75%         0.000000\n",
       "max         1.000000"
      ]
     },
     "execution_count": 168,
     "metadata": {},
     "output_type": "execute_result"
    }
   ],
   "source": [
    "results.describe()"
   ]
  },
  {
   "cell_type": "code",
   "execution_count": 33,
   "metadata": {},
   "outputs": [
    {
     "name": "stdout",
     "output_type": "stream",
     "text": [
      "simulationRun\n",
      "0      333\n",
      "1      325\n",
      "2      349\n",
      "3      304\n",
      "4      309\n",
      "      ... \n",
      "735    330\n",
      "736    314\n",
      "737    839\n",
      "738    816\n",
      "739    356\n",
      "Length: 740, dtype: int64\n",
      "count    740.000000\n",
      "mean     423.258108\n",
      "std      181.811162\n",
      "min      278.000000\n",
      "25%      326.750000\n",
      "50%      340.000000\n",
      "75%      381.000000\n",
      "max      866.000000\n",
      "dtype: float64\n"
     ]
    }
   ],
   "source": [
    "merged_df = pd.concat([test_data, results], axis=1)\n",
    "counts = merged_df[merged_df['faultNumber']==1].groupby('simulationRun').size()\n",
    "print(counts)\n",
    "print(counts.describe())\n"
   ]
  },
  {
   "cell_type": "code",
   "execution_count": 35,
   "metadata": {},
   "outputs": [
    {
     "name": "stdout",
     "output_type": "stream",
     "text": [
      "184\n",
      "faultNumber\n",
      "0    533760\n",
      "1    176640\n",
      "Name: count, dtype: int64\n"
     ]
    }
   ],
   "source": [
    "less_than_500 = counts[counts > 381].index.tolist()\n",
    "print(len(less_than_500))\n",
    "# less_than_500에 해당하는 simulationRun의 faultNumber를 1로, 나머지는 0으로 설정\n",
    "merged_df['faultNumber'] = merged_df['simulationRun'].apply(lambda x: 1 if x in less_than_500 else 0)\n",
    "merged_df['faultNumber'].to_csv(\"deepkmeans_1edit.csv\")\n",
    "print(merged_df['faultNumber'] .value_counts())"
   ]
  },
  {
   "cell_type": "code",
   "execution_count": 22,
   "metadata": {},
   "outputs": [
    {
     "data": {
      "text/plain": [
       "Text(0.5, 1.0, 'reconstruction error distribution')"
      ]
     },
     "execution_count": 22,
     "metadata": {},
     "output_type": "execute_result"
    },
    {
     "data": {
      "image/png": "[encoded data removed]",
      "text/plain": [
       "<Figure size 640x480 with 1 Axes>"
      ]
     },
     "metadata": {},
     "output_type": "display_data"
    }
   ],
   "source": [
    "import matplotlib.pyplot as plt  \n",
    "\n",
    "# reconstruction error 계산 \n",
    "reconstruction_errors = torch.mean((outputs - inputs) ** 2, axis=1).detach()  #MSE\n",
    "\n",
    "# reconstruction error 히스토그램 시각화 \n",
    "plt.hist(reconstruction_errors.numpy(), bins=50) \n",
    "plt.xlabel('reconstruction error') \n",
    "plt.ylabel('frequency') \n",
    "plt.title('reconstruction error distribution')"
   ]
  }
 ],
 "metadata": {
  "kernelspec": {
   "display_name": "base",
   "language": "python",
   "name": "python3"
  },
  "language_info": {
   "codemirror_mode": {
    "name": "ipython",
    "version": 3
   },
   "file_extension": ".py",
   "mimetype": "text/x-python",
   "name": "python",
   "nbconvert_exporter": "python",
   "pygments_lexer": "ipython3",
   "version": "3.10.13"
  }
 },
 "nbformat": 4,
 "nbformat_minor": 2
}
